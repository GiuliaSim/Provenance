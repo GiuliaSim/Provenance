{
 "cells": [
  {
   "cell_type": "code",
   "execution_count": 1,
   "metadata": {},
   "outputs": [],
   "source": [
    "# Necessary packages\n",
    "import sys\n",
    "sys.path.insert(0, '/home/giulia/Provenance')\n",
    "import ipynb.fs.full.provenance as pr\n",
    "import pandas as pd\n",
    "import numpy as np\n",
    "\n",
    "from IPython.display import Image\n",
    "\n",
    "# Specify where to save the processed files as savepath\n",
    "savepath = 'results/SpaceTransf_prov/'"
   ]
  },
  {
   "cell_type": "code",
   "execution_count": 2,
   "metadata": {},
   "outputs": [],
   "source": [
    "# Files get loaded from fairCorrect github repository\n",
    "url = 'https://raw.githubusercontent.com/vladoxNCL/fairCorrect/master/Datasets/'\n",
    "#df = pd.read_csv('avocado.csv', header=0)\n",
    "df = pd.read_csv(url + 'compas-scores-two-years.csv', header=0)\n",
    "\n",
    "# select relevant columns\n",
    "df =df[['age', 'c_charge_degree', 'race', 'sex', 'priors_count', 'days_b_screening_arrest',\n",
    "        'two_year_recid', 'c_jail_in', 'c_jail_out']]\n",
    "\n",
    "df =df[['age', 'c_jail_in', 'c_jail_out']]\n",
    "df = df[:3]\n",
    "\n",
    "# Create a new provenance document \n",
    "p = pr.Provenance(df, savepath)\n"
   ]
  },
  {
   "cell_type": "code",
   "execution_count": 3,
   "metadata": {},
   "outputs": [
    {
     "name": "stdout",
     "output_type": "stream",
     "text": [
      "get_prov_space_transformation function took 1.733 ms\n"
     ]
    }
   ],
   "source": [
    "#SPACE TRANSFORMATION\n",
    "\n",
    "# convert jailtime to days\n",
    "df['jailtime'] = (pd.to_datetime(df.c_jail_out) - pd.to_datetime(df.c_jail_in)).dt.days\n",
    "\n",
    "#GET PROVENANCE\n",
    "d = p.get_prov_space_transformation(df,['c_jail_out','c_jail_in'])"
   ]
  },
  {
   "cell_type": "code",
   "execution_count": 4,
   "metadata": {},
   "outputs": [],
   "source": [
    "#namefile = savepath + 'space_transf_prov'\n",
    "#p.save_all_graph(namefile)\n",
    "#Image(namefile + '.png')"
   ]
  },
  {
   "cell_type": "code",
   "execution_count": 5,
   "metadata": {},
   "outputs": [
    {
     "name": "stdout",
     "output_type": "stream",
     "text": [
      "get_prov_drop function took 3.215 ms\n"
     ]
    }
   ],
   "source": [
    "#DROP FEATURE\n",
    "\n",
    "#drop jail in and out dates\n",
    "df = df.drop(['c_jail_in', 'c_jail_out'], axis=1)\n",
    "\n",
    "#GET PROVENANCE\n",
    "d = p.get_prov_drop(df)"
   ]
  },
  {
   "cell_type": "code",
   "execution_count": 6,
   "metadata": {},
   "outputs": [],
   "source": [
    "#namefile = savepath + 'final_drop'\n",
    "#p.save_all_graph(namefile)\n",
    "#Image(namefile + '.png')"
   ]
  },
  {
   "cell_type": "code",
   "execution_count": null,
   "metadata": {},
   "outputs": [],
   "source": []
  }
 ],
 "metadata": {
  "kernelspec": {
   "display_name": "Python 3",
   "language": "python",
   "name": "python3"
  },
  "language_info": {
   "codemirror_mode": {
    "name": "ipython",
    "version": 3
   },
   "file_extension": ".py",
   "mimetype": "text/x-python",
   "name": "python",
   "nbconvert_exporter": "python",
   "pygments_lexer": "ipython3",
   "version": "3.7.3"
  }
 },
 "nbformat": 4,
 "nbformat_minor": 2
}
