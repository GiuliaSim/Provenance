{
 "cells": [
  {
   "cell_type": "code",
   "execution_count": 1,
   "metadata": {},
   "outputs": [],
   "source": [
    "# Necessary packages\n",
    "import sys\n",
    "sys.path.insert(0, '/home/giulia/Provenance')\n",
    "import ipynb.fs.full.provenance as pr\n",
    "import pandas as pd\n",
    "import numpy as np\n",
    "\n",
    "from IPython.display import Image\n",
    "\n",
    "# Specify where to save the processed files as savepath\n",
    "savepath = 'results/Binarizer_prov/'"
   ]
  },
  {
   "cell_type": "code",
   "execution_count": 2,
   "metadata": {},
   "outputs": [],
   "source": [
    "# Files get loaded from fairCorrect github repository\n",
    "url = 'https://raw.githubusercontent.com/vladoxNCL/fairCorrect/master/Datasets/'\n",
    "df = pd.read_csv(url + 'compas-scores-two-years.csv', header=0)\n",
    "\n",
    "# select relevant columns\n",
    "df =df[['age', 'c_charge_degree', 'race', 'sex', 'priors_count', 'days_b_screening_arrest',\n",
    "        'two_year_recid', 'c_jail_in', 'c_jail_out']]\n",
    "\n",
    "df =df[['age', 'c_charge_degree', 'race']]\n",
    "df = df[:3]\n",
    "\n",
    "# Create a new provenance document \n",
    "p = pr.Provenance(df, savepath)"
   ]
  },
  {
   "cell_type": "code",
   "execution_count": 3,
   "metadata": {},
   "outputs": [
    {
     "name": "stdout",
     "output_type": "stream",
     "text": [
      "               race\n",
      "0             Other\n",
      "1  African-American\n",
      "2  African-American\n",
      "   race\n",
      "0     0\n",
      "1     0\n",
      "2     0\n",
      "0\n",
      "0\n",
      "0\n",
      "get_prov_binarizer function took 3.612 ms\n"
     ]
    }
   ],
   "source": [
    "#BINARIZER\n",
    "# Make race binary\n",
    "df.race = [0 if r != 'Caucasian' else 1 for r in df.race]\n",
    "\n",
    "#GET PROVENANCE\n",
    "d = p.get_prov_binarizer(df, ['race'])\n"
   ]
  },
  {
   "cell_type": "code",
   "execution_count": 4,
   "metadata": {},
   "outputs": [],
   "source": [
    "#namefile = savepath + 'binarizer_prov'\n",
    "#p.save_all_graph(namefile)\n",
    "#Image(namefile + '.png')"
   ]
  }
 ],
 "metadata": {
  "kernelspec": {
   "display_name": "Python 3",
   "language": "python",
   "name": "python3"
  },
  "language_info": {
   "codemirror_mode": {
    "name": "ipython",
    "version": 3
   },
   "file_extension": ".py",
   "mimetype": "text/x-python",
   "name": "python",
   "nbconvert_exporter": "python",
   "pygments_lexer": "ipython3",
   "version": "3.7.3"
  }
 },
 "nbformat": 4,
 "nbformat_minor": 2
}
