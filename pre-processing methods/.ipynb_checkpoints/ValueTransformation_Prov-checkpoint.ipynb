{
 "cells": [
  {
   "cell_type": "code",
   "execution_count": 1,
   "metadata": {},
   "outputs": [],
   "source": [
    "# Necessary packages\n",
    "import sys\n",
    "sys.path.insert(0, '/home/giulia/Provenance')\n",
    "import ipynb.fs.full.provenance as pr\n",
    "import ipynb.fs.full.prov_provenance as prov_pr\n",
    "import pandas as pd\n",
    "import numpy as np\n",
    "\n",
    "from IPython.display import Image\n",
    "\n",
    "# Specify where to save the processed files as savepath\n",
    "savepath = 'results/ValueTransf_prov/'"
   ]
  },
  {
   "cell_type": "code",
   "execution_count": 2,
   "metadata": {},
   "outputs": [
    {
     "name": "stdout",
     "output_type": "stream",
     "text": [
      "   age          workclass   education\n",
      "0   39          State-gov   Bachelors\n",
      "1   50   Self-emp-not-inc   Bachelors\n",
      "2   38            Private     HS-grad\n"
     ]
    }
   ],
   "source": [
    "# Files get loaded from fairCorrect github repository\n",
    "url = 'https://raw.githubusercontent.com/vladoxNCL/fairCorrect/master/Datasets/'\n",
    "\n",
    "# Get balancing feature to end column\n",
    "df = pd.read_csv(url + 'adult.data', header=None)\n",
    "\n",
    "# Assign names to columns\n",
    "names = ['age', 'workclass', 'fnlwgt', 'education', 'education-num', 'marital-status',\n",
    "         'occupation', 'relationship', 'race', 'sex', 'capital-gain',\n",
    "         'capital-loss', 'hours-per-week', 'native-country', 'label']\n",
    "\n",
    "df.columns = names\n",
    "\n",
    "# Select firt 3 rows \n",
    "df = df[:3]\n",
    "\n",
    "df = df[['age', 'workclass', 'education']]\n",
    "\n",
    "print(df)\n",
    "\n",
    "# Create a new provenance document \n",
    "p = prov_pr.Provenance(df, savepath)\n"
   ]
  },
  {
   "cell_type": "code",
   "execution_count": 3,
   "metadata": {},
   "outputs": [
    {
     "name": "stdout",
     "output_type": "stream",
     "text": [
      "   age          workclass education\n",
      "0   39          State-gov       NaN\n",
      "1   50   Self-emp-not-inc       NaN\n",
      "2   38            Private   HS-grad\n",
      "get_prov_value_transformation function took 4.162 ms\n"
     ]
    }
   ],
   "source": [
    "#VALUE TRANSFORMATION\n",
    "# Replace ? character for NaN value\n",
    "a = df['education'][0]\n",
    "df = df.replace(a, np.nan)\n",
    "print(df)\n",
    "\n",
    "#GET PROVENANCE\n",
    "d = p.get_prov_value_transformation(df,a)\n"
   ]
  },
  {
   "cell_type": "code",
   "execution_count": 4,
   "metadata": {},
   "outputs": [],
   "source": [
    "namefile = 'ValueTransf_prov'\n",
    "p.save_all_graph(namefile)\n",
    "Image(savepath + namefile + '.png')"
   ]
  },
  {
   "cell_type": "code",
   "execution_count": 5,
   "metadata": {},
   "outputs": [
    {
     "name": "stdout",
     "output_type": "stream",
     "text": [
      "get_prov_imputation function took 8.664 ms\n"
     ]
    }
   ],
   "source": [
    "#VALUE IMPUTATION\n",
    "df.fillna(0)\n",
    "\n",
    "#GET PROVENANCE\n",
    "d = p.get_prov_imputation(df)"
   ]
  },
  {
   "cell_type": "code",
   "execution_count": 6,
   "metadata": {},
   "outputs": [],
   "source": [
    "namefile = 'ValueImputation_prov'\n",
    "p.save_all_graph(namefile)\n",
    "Image(savepath + namefile + '.png')"
   ]
  }
 ],
 "metadata": {
  "kernelspec": {
   "display_name": "Python 3",
   "language": "python",
   "name": "python3"
  },
  "language_info": {
   "codemirror_mode": {
    "name": "ipython",
    "version": 3
   },
   "file_extension": ".py",
   "mimetype": "text/x-python",
   "name": "python",
   "nbconvert_exporter": "python",
   "pygments_lexer": "ipython3",
   "version": "3.7.3"
  }
 },
 "nbformat": 4,
 "nbformat_minor": 2
}
