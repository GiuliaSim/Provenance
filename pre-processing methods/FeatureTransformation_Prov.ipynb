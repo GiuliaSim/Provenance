{
 "cells": [
  {
   "cell_type": "code",
   "execution_count": 1,
   "metadata": {},
   "outputs": [],
   "source": [
    "import sys\n",
    "sys.path.insert(0, '/home/giulia/Provenance')\n",
    "import ipynb.fs.full.provenance as pr\n",
    "import pandas as pd\n",
    "import numpy as np\n",
    "\n",
    "from IPython.display import Image\n",
    "\n",
    "# Specify where to save the processed files as savepath\n",
    "savepath = 'results/FeatureTransf_prov/'"
   ]
  },
  {
   "cell_type": "code",
   "execution_count": 2,
   "metadata": {},
   "outputs": [],
   "source": [
    "# Files get loaded from fairCorrect github repository\n",
    "url = 'https://raw.githubusercontent.com/vladoxNCL/fairCorrect/master/Datasets/'\n",
    "# Get balancing feature to end column\n",
    "df = pd.read_csv(url + 'adult.data', header=None)\n",
    "\n",
    "# Assign names to columns\n",
    "names = ['age', 'workclass', 'fnlwgt', 'education', 'education-num', 'marital-status',\n",
    "         'occupation', 'relationship', 'race', 'sex', 'capital-gain',\n",
    "         'capital-loss', 'hours-per-week', 'native-country', 'label']\n",
    "\n",
    "df.columns = names\n",
    "\n",
    "# Select firt 3 rows and reduce column\n",
    "df = df[:3]\n",
    "df = df[['workclass', 'race', 'sex','label']]\n",
    "\n",
    "# Create a new provenance document \n",
    "p = pr.Provenance(df, savepath)\n"
   ]
  },
  {
   "cell_type": "code",
   "execution_count": 3,
   "metadata": {},
   "outputs": [
    {
     "name": "stdout",
     "output_type": "stream",
     "text": [
      "get_prov_feature_transformation function took 2.199 ms\n"
     ]
    }
   ],
   "source": [
    "#FEATURE TRANSFORMATION\n",
    "# Cleanup names from spaces\n",
    "col = ['workclass', 'sex', 'label']\n",
    "\n",
    "for c in col:\n",
    "    df[c] = df[c].map(str.strip)\n",
    "\n",
    "#GET PROVENANCE\n",
    "d = p.get_prov_feature_transformation(df, col)"
   ]
  },
  {
   "cell_type": "code",
   "execution_count": 4,
   "metadata": {},
   "outputs": [],
   "source": [
    "#namefile = savepath + 'FeatureTransformation_Prov'\n",
    "#p.save_all_graph(namefile)\n",
    "#Image(namefile + '.png')"
   ]
  }
 ],
 "metadata": {
  "kernelspec": {
   "display_name": "Python 3",
   "language": "python",
   "name": "python3"
  },
  "language_info": {
   "codemirror_mode": {
    "name": "ipython",
    "version": 3
   },
   "file_extension": ".py",
   "mimetype": "text/x-python",
   "name": "python",
   "nbconvert_exporter": "python",
   "pygments_lexer": "ipython3",
   "version": "3.7.3"
  }
 },
 "nbformat": 4,
 "nbformat_minor": 2
}
