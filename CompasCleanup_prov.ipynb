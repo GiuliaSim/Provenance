{
 "cells": [
  {
   "cell_type": "code",
   "execution_count": 1,
   "metadata": {},
   "outputs": [],
   "source": [
    "import ipynb.fs.full.provenance as pr\n",
    "import ipynb.fs.full.provenance_lib as pr_lib\n",
    "import pandas as pd\n",
    "\n",
    "from IPython.display import Image\n",
    "\n",
    "# Specify where to save the processed files as savepath\n",
    "savepath = 'results/COMPAScleanup_prov/'"
   ]
  },
  {
   "cell_type": "code",
   "execution_count": 2,
   "metadata": {},
   "outputs": [
    {
     "name": "stdout",
     "output_type": "stream",
     "text": [
      "IN - Rows:  7214  Features:  53\n"
     ]
    }
   ],
   "source": [
    "# Files get loaded from fairCorrect github repository\n",
    "url = 'https://raw.githubusercontent.com/vladoxNCL/fairCorrect/master/Datasets/'\n",
    "df = pd.read_csv(url + 'compas-scores-two-years.csv', header=0)\n",
    "\n",
    "m, n= df.shape\n",
    "print(\"IN - Rows: \", m, \" Features: \",n)\n",
    "\n",
    "# Create a new provenance document and input entities \n",
    "#p = pr.Provenance(df, savepath)\n",
    "p = pr_lib.Provenance(df, savepath)"
   ]
  },
  {
   "cell_type": "code",
   "execution_count": 3,
   "metadata": {},
   "outputs": [
    {
     "name": "stdout",
     "output_type": "stream",
     "text": [
      "get_prov_feature_selection function took 8681.953 ms\n"
     ]
    }
   ],
   "source": [
    "# select relevant columns\n",
    "df =df[['c_charge_degree', 'race', 'two_year_recid', 'c_jail_in', 'c_jail_out']]\n",
    "\n",
    "d = p.get_prov_feature_selection(df)"
   ]
  },
  {
   "cell_type": "code",
   "execution_count": 4,
   "metadata": {},
   "outputs": [
    {
     "name": "stdout",
     "output_type": "stream",
     "text": [
      "get_prov_dim_reduction function took 271.327 ms\n"
     ]
    }
   ],
   "source": [
    "# Remove missing values\n",
    "df = df.dropna()\n",
    "\n",
    "d = p.get_prov_dim_reduction(df)"
   ]
  },
  {
   "cell_type": "code",
   "execution_count": 5,
   "metadata": {},
   "outputs": [
    {
     "name": "stdout",
     "output_type": "stream",
     "text": [
      "get_prov_binarizer function took 869.079 ms\n"
     ]
    }
   ],
   "source": [
    "# Make race binary\n",
    "df.race = [0 if r != 'Caucasian' else 1 for r in df.race]\n",
    "\n",
    "d = p.get_prov_binarizer(df, ['race'])"
   ]
  },
  {
   "cell_type": "code",
   "execution_count": 6,
   "metadata": {},
   "outputs": [
    {
     "name": "stdout",
     "output_type": "stream",
     "text": [
      "get_prov_feature_transformation function took 953.963 ms\n"
     ]
    }
   ],
   "source": [
    "# Make two_year_recid the label\n",
    "df = df.rename({'two_year_recid': 'label'}, axis=1)\n",
    "\n",
    "# reverse label for consistency with function defs: 1 means no recid (good), 0 means recid (bad)\n",
    "df.label = [0 if l == 1 else 1 for l in df.label]\n",
    "\n",
    "d = p.get_prov_feature_transformation(df, ['label'])"
   ]
  },
  {
   "cell_type": "code",
   "execution_count": 7,
   "metadata": {},
   "outputs": [
    {
     "name": "stdout",
     "output_type": "stream",
     "text": [
      "get_prov_space_transformation function took 1356.535 ms\n"
     ]
    }
   ],
   "source": [
    "# convert jailtime to days\n",
    "df['jailtime'] = (pd.to_datetime(df.c_jail_out) - pd.to_datetime(df.c_jail_in)).dt.days\n",
    "\n",
    "#Get provenance of space transformation\n",
    "d = p.get_prov_space_transformation(df, ['c_jail_out','c_jail_in'])"
   ]
  },
  {
   "cell_type": "code",
   "execution_count": 8,
   "metadata": {},
   "outputs": [
    {
     "name": "stdout",
     "output_type": "stream",
     "text": [
      "get_prov_dim_reduction function took 482.111 ms\n"
     ]
    }
   ],
   "source": [
    "#drop jail in and out dates\n",
    "df = df.drop(['c_jail_in', 'c_jail_out'], axis=1)\n",
    "\n",
    "d = p.get_prov_dim_reduction(df)"
   ]
  },
  {
   "cell_type": "code",
   "execution_count": 9,
   "metadata": {},
   "outputs": [
    {
     "name": "stdout",
     "output_type": "stream",
     "text": [
      "get_prov_feature_transformation function took 952.245 ms\n"
     ]
    }
   ],
   "source": [
    "# M: misconduct, F: felony\n",
    "df.c_charge_degree = [0 if s == 'M' else 1 for s in df.c_charge_degree]\n",
    "\n",
    "d = p.get_prov_feature_transformation(df, ['c_charge_degree'])"
   ]
  },
  {
   "cell_type": "code",
   "execution_count": 10,
   "metadata": {},
   "outputs": [],
   "source": [
    "# Uncomment bottom line to save clean csv\n",
    "#df.to_csv(savepath + 'compas_onehot.csv', index=False)\n",
    "\n",
    "#namefile = savepath + 'COMPAScleanup_prov'\n",
    "#p.save_all_graph(namefile)\n",
    "#Image(namefile + '.png')"
   ]
  },
  {
   "cell_type": "code",
   "execution_count": null,
   "metadata": {},
   "outputs": [],
   "source": []
  }
 ],
 "metadata": {
  "kernelspec": {
   "display_name": "Python 3",
   "language": "python",
   "name": "python3"
  },
  "language_info": {
   "codemirror_mode": {
    "name": "ipython",
    "version": 3
   },
   "file_extension": ".py",
   "mimetype": "text/x-python",
   "name": "python",
   "nbconvert_exporter": "python",
   "pygments_lexer": "ipython3",
   "version": "3.7.3"
  }
 },
 "nbformat": 4,
 "nbformat_minor": 2
}
