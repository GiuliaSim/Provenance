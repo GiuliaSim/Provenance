{
 "cells": [
  {
   "cell_type": "code",
   "execution_count": 1,
   "metadata": {},
   "outputs": [],
   "source": [
    "import ipynb.fs.full.provenance as pr\n",
    "import ipynb.fs.full.provenance_lib as pr_lib\n",
    "import pandas as pd\n",
    "import numpy as np\n",
    "import time\n",
    "\n",
    "from IPython.display import Image\n",
    "\n",
    "# Specify where to save the processed files as savepath\n",
    "savepath = 'results/'"
   ]
  },
  {
   "cell_type": "code",
   "execution_count": null,
   "metadata": {
    "scrolled": true
   },
   "outputs": [
    {
     "name": "stdout",
     "output_type": "stream",
     "text": [
      "IN - Rows:  32561  Features:  15\n"
     ]
    }
   ],
   "source": [
    "# Files get loaded from fairCorrect github repository\n",
    "url = 'https://raw.githubusercontent.com/vladoxNCL/fairCorrect/master/Datasets/'\n",
    "# Get balancing feature to end column\n",
    "df = pd.read_csv(url + 'adult.data', header=None)\n",
    "\n",
    "m, n= df.shape\n",
    "print(\"IN - Rows: \", m, \" Features: \",n)\n",
    "\n",
    "# Assign names to columns\n",
    "names = ['age', 'workclass', 'fnlwgt', 'education', 'education-num', 'marital-status',\n",
    "         'occupation', 'relationship', 'race', 'sex', 'capital-gain',\n",
    "         'capital-loss', 'hours-per-week', 'native-country', 'label']\n",
    "\n",
    "df.columns = names\n",
    "\n",
    "# Select firt 3 rows \n",
    "#df = df[:3]\n",
    "#df = df[['workclass', 'fnlwgt', 'race', 'sex','label']]\n",
    "\n",
    "# Create a new provenance document \n",
    "p = pr.Provenance(df, savepath + 'census_prov')\n",
    "#p = pr_lib.Provenance(df, savepath)"
   ]
  },
  {
   "cell_type": "code",
   "execution_count": null,
   "metadata": {},
   "outputs": [],
   "source": [
    "#OPERATION 0\n",
    "# Cleanup names from spaces\n",
    "col = ['workclass', 'education', 'marital-status', 'occupation',\n",
    "       'relationship', 'race', 'sex', 'native-country', 'label']\n",
    "#col = ['workclass', 'sex', 'label']\n",
    "\n",
    "for c in col:\n",
    "    df[c] = df[c].map(str.strip)\n",
    "\n",
    "#PROVENANCE 0\n",
    "d = p.get_prov_feature_transformation(df, col, 'Cleanup names from spaces')\n"
   ]
  },
  {
   "cell_type": "code",
   "execution_count": null,
   "metadata": {},
   "outputs": [],
   "source": [
    "#OPERATION 1\n",
    "# Replace ? character for NaN value\n",
    "df = df.replace('?', np.nan)\n",
    "\n",
    "#PROVENANCE 1\n",
    "d = p.get_prov_value_transformation(df,'?')"
   ]
  },
  {
   "cell_type": "code",
   "execution_count": null,
   "metadata": {},
   "outputs": [],
   "source": [
    "#OPERATION 2\n",
    "# One-hot encode categorical variables\n",
    "col = ['workclass', 'race']\n",
    "\n",
    "onehot_col_map = {}\n",
    "for c in col:\n",
    "    #TOADD: Get map column-val\n",
    "    unique_val = df[c].unique().tolist()\n",
    "    onehot_col_map[c] = unique_val\n",
    "    \n",
    "    dummies = []\n",
    "    dummies.append(pd.get_dummies(df[c]))\n",
    "    df_dummies = pd.concat(dummies, axis = 1)\n",
    "    df = pd.concat((df, df_dummies), axis = 1)\n",
    "    df = df.drop([c], axis = 1)\n",
    "\n",
    "#PROVENANCE 2\n",
    "d = p.get_prov_onehot_encode(df, col, onehot_col_map)"
   ]
  },
  {
   "cell_type": "code",
   "execution_count": null,
   "metadata": {},
   "outputs": [],
   "source": [
    "#OPERATION 3\n",
    "# Assign sex and label binary values 0 and 1\n",
    "df.sex = df.sex.replace('Male', 1)\n",
    "df.sex = df.sex.replace('Female', 0)\n",
    "df.label = df.label.replace('<=50K', 0)\n",
    "df.label = df.label.replace('>50K', 1)\n",
    "\n",
    "#PROVENANCE 3\n",
    "col = ['sex', 'label']\n",
    "d = p.get_prov_feature_transformation(df, col, 'Assign sex and label binary values 0 and 1')"
   ]
  },
  {
   "cell_type": "code",
   "execution_count": null,
   "metadata": {},
   "outputs": [],
   "source": [
    "#OPERATION 4\n",
    "# Drop fnlwgt variable\n",
    "df = df.drop(['fnlwgt'], axis=1)\n",
    "#PROVENANCE 4\n",
    "d = p.get_prov_dim_reduction(df)\n",
    "\n",
    "m, n= df.shape\n",
    "print(\"OUT- Rows: \", m, \" Features: \",n)\n",
    "\n",
    "# Uncomment bottom line to save clean csv\n",
    "#df.to_csv(savepath + 'income_onehot.csv', index=False)\n",
    "\n",
    "#namefile = savepath + 'census_prov'\n",
    "#p.save_all_graph(namefile)\n",
    "#Image(namefile + '.png')\n"
   ]
  }
 ],
 "metadata": {
  "kernelspec": {
   "display_name": "Python 3",
   "language": "python",
   "name": "python3"
  },
  "language_info": {
   "codemirror_mode": {
    "name": "ipython",
    "version": 3
   },
   "file_extension": ".py",
   "mimetype": "text/x-python",
   "name": "python",
   "nbconvert_exporter": "python",
   "pygments_lexer": "ipython3",
   "version": "3.7.3"
  }
 },
 "nbformat": 4,
 "nbformat_minor": 2
}
