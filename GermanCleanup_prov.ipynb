{
 "cells": [
  {
   "cell_type": "code",
   "execution_count": 1,
   "metadata": {},
   "outputs": [],
   "source": [
    "import ipynb.fs.full.provenance as pr\n",
    "import ipynb.fs.full.provenance_lib as pr_lib\n",
    "import pandas as pd\n",
    "import numpy as np\n",
    "\n",
    "from IPython.display import Image\n",
    "\n",
    "# Specify where to save the processed files as savepath\n",
    "savepath = 'results/GermanCredit_prov/'"
   ]
  },
  {
   "cell_type": "code",
   "execution_count": 2,
   "metadata": {},
   "outputs": [
    {
     "name": "stdout",
     "output_type": "stream",
     "text": [
      "IN - Rows:  1000  Features:  21\n"
     ]
    }
   ],
   "source": [
    "# Files get loaded from fairCorrect github repository\n",
    "url = 'https://raw.githubusercontent.com/vladoxNCL/fairCorrect/master/Datasets/'\n",
    "df = pd.read_csv(url + 'german.csv', header=None)\n",
    "\n",
    "m, n= df.shape\n",
    "print(\"IN - Rows: \", m, \" Features: \",n)\n",
    "\n",
    "# Data needed column names\n",
    "df.columns = ['checking', 'duration', 'credit_history', 'purpose', 'credit_amount',\n",
    "              'savings', 'employment', 'inst_rate', 'personal_status', 'other_debtors',\n",
    "              'residence_time', 'property', 'age', 'other_inst', 'housing', 'num_credits',\n",
    "              'job', 'dependants', 'phone', 'foreigner', 'label']\n",
    "\n",
    "#df = df[:3]\n",
    "#df = df[['checking','personal_status']]\n",
    "\n",
    "# Create a new provenance document and input entities \n",
    "p = pr.Provenance(df, savepath)\n",
    "#p = pr_lib.Provenance(df, savepath)"
   ]
  },
  {
   "cell_type": "code",
   "execution_count": 3,
   "metadata": {
    "scrolled": true
   },
   "outputs": [
    {
     "name": "stdout",
     "output_type": "stream",
     "text": [
      "get_prov_feature_transformation function took 6120.035 ms\n"
     ]
    }
   ],
   "source": [
    "# Turn criptic values into interpretable form\n",
    "df = df.replace({'checking': {'A11': 'check_low', 'A12': 'check_mid', 'A13': 'check_high',\n",
    "                              'A14': 'check_none'},\n",
    "                 'credit_history': {'A30': 'debt_none', 'A31': 'debt_noneBank',\n",
    "                                    'A32': 'debt_onSchedule','A33': 'debt_delay',\n",
    "                                    'A34': 'debt_critical'},\n",
    "                 'purpose': {'A40': 'pur_newCar', 'A41': 'pur_usedCar',\n",
    "                             'A42': 'pur_furniture', 'A43': 'pur_tv',\n",
    "                             'A44': 'pur_appliance', 'A45': 'pur_repairs',\n",
    "                             'A46': 'pur_education', 'A47': 'pur_vacation',\n",
    "                             'A48': 'pur_retraining', 'A49': 'pur_business',\n",
    "                             'A410': 'pur_other'},\n",
    "                 'savings': {'A61': 'sav_small', 'A62': 'sav_medium', 'A63': 'sav_large',\n",
    "                             'A64': 'sav_xlarge', 'A65': 'sav_none'},\n",
    "                 'employment': {'A71': 'emp_unemployed', 'A72': 'emp_lessOne',\n",
    "                                'A73': 'emp_lessFour', 'A74': 'emp_lessSeven',\n",
    "                                'A75': 'emp_moreSeven'},\n",
    "                 'other_debtors': {'A101': 'debtor_none', 'A102': 'debtor_coApp',\n",
    "                                   'A103': 'debtor_guarantor'},\n",
    "                 'property': {'A121': 'prop_realEstate', 'A122': 'prop_agreement',\n",
    "                              'A123': 'prop_car', 'A124': 'prop_none'},\n",
    "                 'other_inst': {'A141': 'oi_bank', 'A142': 'oi_stores', 'A143': 'oi_none'},\n",
    "                 'housing': {'A151': 'hous_rent', 'A152': 'hous_own', 'A153': 'hous_free'},\n",
    "                 'job': {'A171': 'job_unskilledNR', 'A172': 'job_unskilledR',\n",
    "                         'A173': 'job_skilled', 'A174': 'job_highSkill'},\n",
    "                 'phone': {'A191': 0, 'A192': 1},\n",
    "                 'foreigner': {'A201': 1, 'A202': 0},\n",
    "                 'label': {2: 0}})\n",
    "col = ['checking', 'credit_history', 'purpose', 'savings', 'employment', 'other_debtors', 'property', 'other_inst', 'housing', 'job', 'phone', 'foreigner', 'label']\n",
    "\n",
    "d = p.get_prov_feature_transformation(df, col)"
   ]
  },
  {
   "cell_type": "code",
   "execution_count": 4,
   "metadata": {},
   "outputs": [
    {
     "name": "stdout",
     "output_type": "stream",
     "text": [
      "get_prov_space_transformation function took 1072.683 ms\n"
     ]
    }
   ],
   "source": [
    "# More criptic values translating\n",
    "df['status'] = np.where(df.personal_status == 'A91', 'divorced',\n",
    "                        np.where(df.personal_status == 'A92', 'divorced', \n",
    "                                 np.where(df.personal_status == 'A93', 'single',\n",
    "                                          np.where(df.personal_status == 'A95', 'single',\n",
    "                                                   'married'))))\n",
    "\n",
    "# Translate gender values\n",
    "df['gender'] = np.where(df.personal_status == 'A92', 0,\n",
    "                        np.where(df.personal_status == 'A95', 0,\n",
    "                                 1))\n",
    "\n",
    "d = p.get_prov_space_transformation(df, ['personal_status'])"
   ]
  },
  {
   "cell_type": "code",
   "execution_count": 5,
   "metadata": {},
   "outputs": [
    {
     "name": "stdout",
     "output_type": "stream",
     "text": [
      "get_prov_dim_reduction function took 240.753 ms\n"
     ]
    }
   ],
   "source": [
    "# Drop personal_status column\n",
    "df = df.drop(['personal_status'], axis=1)\n",
    "\n",
    "d = p.get_prov_dim_reduction(df)"
   ]
  },
  {
   "cell_type": "code",
   "execution_count": 6,
   "metadata": {},
   "outputs": [
    {
     "name": "stdout",
     "output_type": "stream",
     "text": [
      "get_prov_onehot_encode function took 22255.401 ms\n"
     ]
    }
   ],
   "source": [
    "# One-hot encode categorical columns\n",
    "col = ['checking', 'credit_history', 'purpose', 'savings', 'employment', 'other_debtors', 'property',\n",
    "       'other_inst', 'housing', 'job', 'status']\n",
    "onehot_col_map = {}\n",
    "for c in col:\n",
    "    #Get map column-val\n",
    "    unique_val = df[c].unique().tolist()\n",
    "    onehot_col_map[c] = unique_val\n",
    "    \n",
    "    dummies = []\n",
    "    dummies.append(pd.get_dummies(df[c]))\n",
    "    df_dummies = pd.concat(dummies, axis = 1)\n",
    "    df = pd.concat((df, df_dummies), axis = 1)\n",
    "    df = df.drop([c], axis = 1)\n",
    "    \n",
    "d = p.get_prov_onehot_encode(df, col, onehot_col_map)"
   ]
  },
  {
   "cell_type": "code",
   "execution_count": 7,
   "metadata": {},
   "outputs": [],
   "source": [
    "# Uncomment bottom line to save clean csv\n",
    "df.to_csv(savepath + 'german_onehot.csv', index=False)\n",
    "\n",
    "#namefile = savepath + 'GermanCredit_prov'\n",
    "#p.save_all_graph(namefile)\n",
    "#Image(namefile + '.png')"
   ]
  },
  {
   "cell_type": "code",
   "execution_count": null,
   "metadata": {},
   "outputs": [],
   "source": []
  }
 ],
 "metadata": {
  "kernelspec": {
   "display_name": "Python 3",
   "language": "python",
   "name": "python3"
  },
  "language_info": {
   "codemirror_mode": {
    "name": "ipython",
    "version": 3
   },
   "file_extension": ".py",
   "mimetype": "text/x-python",
   "name": "python",
   "nbconvert_exporter": "python",
   "pygments_lexer": "ipython3",
   "version": "3.7.3"
  }
 },
 "nbformat": 4,
 "nbformat_minor": 2
}
